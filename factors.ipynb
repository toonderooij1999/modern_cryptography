{
 "cells": [
  {
   "cell_type": "code",
   "execution_count": 1,
   "metadata": {},
   "outputs": [],
   "source": [
    "import numpy as np\n",
    "import math\n",
    "import random\n",
    "import time\n",
    "import matplotlib.pyplot as plt\n",
    "from tqdm.notebook import tqdm\n",
    "\n",
    "def GCD(x, y):\n",
    "    while(y):\n",
    "        x, y = y, x % y\n",
    "    return x\n",
    "\n",
    "def prime(upto):\n",
    "    primes=np.arange(2,upto+1)\n",
    "    isprime=np.ones(upto-1,dtype=bool)\n",
    "    for factor in primes[:int(math.sqrt(upto))]:\n",
    "        if isprime[factor-2]: isprime[factor*2-2::factor]=0\n",
    "    return primes[isprime]\n",
    "\n",
    "def trial_division(N):\n",
    "    '''\n",
    "    trial division assuming that N is not a prime\n",
    "    '''\n",
    "    for p in range(2, N):\n",
    "        if N % p == 0:\n",
    "            return p\n",
    "        \n",
    "def F(x):\n",
    "    return x**2 + 1\n",
    "\n",
    "def pollard_rho(N):\n",
    "    x = (random.randint(0, 2) % (N - 2))\n",
    "    y = x\n",
    "    while True:\n",
    "        x = F(x) % N \n",
    "        y = F(F(y)) % N\n",
    "        p = GCD(x - y % N, N)\n",
    "        if 1 < p < N:\n",
    "            return p"
   ]
  },
  {
   "cell_type": "code",
   "execution_count": 2,
   "metadata": {},
   "outputs": [],
   "source": [
    "def p_q(power):\n",
    "    '''\n",
    "    returns two distinc prime factors p and q around 10^power \n",
    "    '''\n",
    "    primes = prime(10**power)\n",
    "    div = round(math.sqrt(len(primes)))\n",
    "    p_i = random.randint(0, div)\n",
    "    q_i = p_i\n",
    "    while q_i == p_i:\n",
    "        q_i = random.randint(0, div)\n",
    "    try:\n",
    "        return np.longlong(primes[-div:][p_i]), np.longlong(primes[-div:][q_i])\n",
    "    except:\n",
    "        return p_q(power)"
   ]
  },
  {
   "cell_type": "code",
   "execution_count": null,
   "metadata": {},
   "outputs": [
    {
     "data": {
      "application/vnd.jupyter.widget-view+json": {
       "model_id": "b37e51c5d1314d50bbe8ed3eb738d192",
       "version_major": 2,
       "version_minor": 0
      },
      "text/plain": [
       "HBox(children=(HTML(value=''), FloatProgress(value=0.0, max=7.0), HTML(value='')))"
      ]
     },
     "metadata": {},
     "output_type": "display_data"
    }
   ],
   "source": [
    "td_times = []\n",
    "pr_times = []\n",
    "X = []\n",
    "for i in tqdm(range(2, 9)): \n",
    "    p, q = p_q(i)\n",
    "    N = p * q\n",
    "    X.append(round(math.log10(N)) + 1)\n",
    "    td_s = time.time()\n",
    "    trial_division(N)\n",
    "    td_e = time.time()\n",
    "    td_times.append(td_e - td_s)\n",
    "    pr_i_times = []\n",
    "    # cutting away a bit of the randomness of pollard rho\n",
    "    for _ in range(3):\n",
    "        pr_s = time.time()\n",
    "        pollard_rho(N)\n",
    "        pr_e = time.time()\n",
    "        pr_i_times.append(pr_e - pr_s)\n",
    "    pr_times.append(np.mean(pr_i_times))\n",
    "plt.plot(X, td_times)\n",
    "plt.plot(X, pr_times)\n",
    "plt.title('trial division vs pollard rho')\n",
    "plt.legend(['trial division', 'pollard rho'])\n",
    "plt.xlabel('number of digits')\n",
    "plt.ylabel('running time (s)')\n",
    "plt.show()"
   ]
  },
  {
   "cell_type": "code",
   "execution_count": null,
   "metadata": {},
   "outputs": [],
   "source": [
    "# print(td_times)\n",
    "# for i in range(len(pr_times[:3])-1):\n",
    "#     print(pr_times[i+1]/pr_times[i\n",
    "\n",
    "# 1 / (td_times[-1] / td_times[2] / 10**5)"
   ]
  },
  {
   "cell_type": "code",
   "execution_count": null,
   "metadata": {},
   "outputs": [],
   "source": [
    "# try Rho multiple times \n",
    "# times = []\n",
    "# power = 14\n",
    "# print(f'N = 10^{power}')\n",
    "# for i in tqdm(range(3)):\n",
    "#     p, q = p_q(power // 2)\n",
    "#     N = p * q\n",
    "#     s = time.time()\n",
    "#     f_2 = pollard_rho(N)\n",
    "#     end = time.time()\n",
    "#     times.append(end-s)\n",
    "# print(np.mean(times))\n",
    "    \n",
    "    "
   ]
  }
 ],
 "metadata": {
  "kernelspec": {
   "display_name": "Python 3",
   "language": "python",
   "name": "python3"
  },
  "language_info": {
   "codemirror_mode": {
    "name": "ipython",
    "version": 3
   },
   "file_extension": ".py",
   "mimetype": "text/x-python",
   "name": "python",
   "nbconvert_exporter": "python",
   "pygments_lexer": "ipython3",
   "version": "3.8.3"
  }
 },
 "nbformat": 4,
 "nbformat_minor": 4
}
