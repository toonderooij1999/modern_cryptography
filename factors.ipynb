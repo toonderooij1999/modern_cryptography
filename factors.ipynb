{
 "cells": [
  {
   "cell_type": "code",
   "execution_count": 1,
   "metadata": {},
   "outputs": [],
   "source": [
    "import numpy as np\n",
    "import math\n",
    "import random\n",
    "\n",
    "def GCD(x, y):\n",
    "    while(y):\n",
    "        x, y = y, x % y\n",
    "    return x\n",
    "\n",
    "def prime(upto):\n",
    "    primes=np.arange(2,upto+1)\n",
    "    isprime=np.ones(upto-1,dtype=bool)\n",
    "    for factor in primes[:int(math.sqrt(upto))]:\n",
    "        if isprime[factor-2]: isprime[factor*2-2::factor]=0\n",
    "    return primes[isprime]\n",
    "\n",
    "def trial_division(N):\n",
    "    '''\n",
    "    trial division assuming that N not a prime\n",
    "    '''\n",
    "    for p in range(2, N):\n",
    "        if N % p == 0:\n",
    "            return p\n",
    "        \n",
    "def F(x):\n",
    "    return x**2 + 1\n",
    "\n",
    "def pollard_rho(N):\n",
    "    x = (random.randint(0, 2) % (N - 2))\n",
    "    y = x\n",
    "    while True:\n",
    "        x = F(x) % N \n",
    "        y = F(F(y)) % N\n",
    "        p = GCD(x - y % N, N)\n",
    "        if 1 < p < N:\n",
    "            return p"
   ]
  },
  {
   "cell_type": "code",
   "execution_count": 2,
   "metadata": {},
   "outputs": [],
   "source": [
    "def p_q(power):\n",
    "    primes = prime(10**power)\n",
    "    div = round(math.sqrt(len(primes)))\n",
    "    p_i = random.randint(0, div)\n",
    "    q_i = p_i\n",
    "    while q_i == p_i:\n",
    "        q_i = random.randint(0, div)\n",
    "    return np.longlong(primes[-div:][p_i]), np.longlong(primes[-div:][q_i])"
   ]
  },
  {
   "cell_type": "code",
   "execution_count": 3,
   "metadata": {},
   "outputs": [],
   "source": [
    "# for i in range(2, 10): \n",
    "#     p, q = p_q(i)\n",
    "#     N = p * q\n",
    "#     print(f'N = 10^{round(math.log10(N))}')\n",
    "#     %time f_1 = trial_division(N)\n",
    "#     %time f_2 = pollard_rho(N)"
   ]
  },
  {
   "cell_type": "code",
   "execution_count": 4,
   "metadata": {},
   "outputs": [
    {
     "name": "stdout",
     "output_type": "stream",
     "text": [
      "N = 10^11\n",
      "Wall time: 71.8 ms\n",
      "Wall time: 51.9 ms\n"
     ]
    }
   ],
   "source": [
    "p= p_q(5)[0]\n",
    "q = p_q(6)[0]\n",
    "N = p * q\n",
    "print(f'N = 10^{round(math.log10(N))}')\n",
    "%time f_1 = trial_division(N)\n",
    "%time f_2 = pollard_rho(N)"
   ]
  }
 ],
 "metadata": {
  "kernelspec": {
   "display_name": "Python 3",
   "language": "python",
   "name": "python3"
  },
  "language_info": {
   "codemirror_mode": {
    "name": "ipython",
    "version": 3
   },
   "file_extension": ".py",
   "mimetype": "text/x-python",
   "name": "python",
   "nbconvert_exporter": "python",
   "pygments_lexer": "ipython3",
   "version": "3.8.3"
  }
 },
 "nbformat": 4,
 "nbformat_minor": 4
}
