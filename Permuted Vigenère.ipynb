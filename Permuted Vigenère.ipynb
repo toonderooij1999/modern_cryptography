{
 "cells": [
  {
   "cell_type": "markdown",
   "metadata": {},
   "source": [
    "$t_1$"
   ]
  },
  {
   "cell_type": "code",
   "execution_count": 3,
   "metadata": {},
   "outputs": [],
   "source": [
    "import numpy as np\n",
    "\n",
    "\n",
    "def to_num(string):\n",
    "    num = []\n",
    "    for c in string:\n",
    "        num.append(ord(c)-97)\n",
    "    return num\n",
    "\n",
    "def to_string(num):\n",
    "    string = \"\"\n",
    "    for n in num:\n",
    "        string = string + chr(n+97)\n",
    "    return string\n",
    "\n",
    "def vig_gen_key(key_length):\n",
    "    return to_string(list(np.random.randint(0, 26, key_length)))\n",
    "\n",
    "def vig_ciph(message,key):\n",
    "    mes = to_num(message)\n",
    "    k = to_num(key)\n",
    "    cipher = []\n",
    "    for i in range(len(mes)):\n",
    "        cipher.append((mes[i] + k[i % len(k)]) % 26)\n",
    "    return to_string(cipher)\n",
    "\n",
    "def vig_deciph(ciphertext, key):\n",
    "    cip = to_num(ciphertext)\n",
    "    k = to_num(key)\n",
    "    message = []\n",
    "    for i in range(len(cip)):\n",
    "        message.append((cip[i] - k[i % len(k)]) % 26)\n",
    "    return to_string(message)\n",
    "\n",
    "def permute_gen_key(message_length):\n",
    "    pos = list(np.arange(0, message_length))\n",
    "    key = []\n",
    "    for _ in range(len(pos)):\n",
    "        i = np.random.randint(0, len(pos))\n",
    "        map_to.append(pos[i])\n",
    "        pos.pop(i)\n",
    "    return key\n",
    "\n",
    "def permute_ciph(message, map_to):\n",
    "    cipher_list = list(np.zeros(len(message)))\n",
    "    for i in range(len(message)):\n",
    "        cipher_list[map_to[i]] = message[i]\n",
    "    ciph_text = ''\n",
    "    for c in cipher_list:\n",
    "        ciph_text += c\n",
    "    return ciph_text\n",
    "\n",
    "def permute_deciph(ciph_text, map_to):\n",
    "    message_list = list(np.zeros(len(ciph_text)))\n",
    "    for i in range(len(ciph_text)):\n",
    "        message_list[i] = ciph_text[map_to[i]]\n",
    "    message_text = ''\n",
    "    for m in message_list:\n",
    "        message_text += m\n",
    "    return message_text"
   ]
  },
  {
   "cell_type": "code",
   "execution_count": 4,
   "metadata": {},
   "outputs": [],
   "source": [
    "def Gen(key_length, message_length):\n",
    "    return vig_gen_key(key_length), permute_gen_key(message_length)\n",
    "\n",
    "def Enc(message, vig_key, perm_key):\n",
    "    return permute_ciph(vig_ciph(message, vig_key), perm_key)\n",
    "\n",
    "def Dec(cipher, vig_key, perm_key):\n",
    "    return permute_deciph(vig_deciph(cipher, vig_key), perm_key)"
   ]
  },
  {
   "cell_type": "code",
   "execution_count": 17,
   "metadata": {},
   "outputs": [
    {
     "name": "stdout",
     "output_type": "stream",
     "text": [
      "\u001b[1mMessage:\u001b[0m thisisatest\n",
      "\u001b[1mVigenère key:\u001b[0m jcw\n",
      "\u001b[1mPermutation key:\u001b[0m [5, 9, 4, 6, 1, 2, 10, 3, 0, 8, 7]\n",
      "\u001b[1mCiphertext:\u001b[0m akovecbvbjj\n",
      "\u001b[1mDecrypted ciphertext:\u001b[0m gacsishmrft\n"
     ]
    }
   ],
   "source": [
    "message = 'thisisatest'\n",
    "print('\\033[1mMessage:\\033[0m', message)\n",
    "vig_key, perm_key = Gen(3, len(message))\n",
    "print('\\033[1mVigenère key:\\033[0m',vig_key)\n",
    "print('\\033[1mPermutation key:\\033[0m', perm_key)\n",
    "cipher = Enc(message, vig_key, perm_key)\n",
    "print('\\033[1mCiphertext:\\033[0m', cipher)\n",
    "m = Dec(cipher, vig_key, perm_key)\n",
    "print('\\033[1mDecrypted ciphertext:\\033[0m', m)"
   ]
  }
 ],
 "metadata": {
  "kernelspec": {
   "display_name": "Python 3",
   "language": "python",
   "name": "python3"
  },
  "language_info": {
   "codemirror_mode": {
    "name": "ipython",
    "version": 3
   },
   "file_extension": ".py",
   "mimetype": "text/x-python",
   "name": "python",
   "nbconvert_exporter": "python",
   "pygments_lexer": "ipython3",
   "version": "3.8.3"
  }
 },
 "nbformat": 4,
 "nbformat_minor": 4
}
